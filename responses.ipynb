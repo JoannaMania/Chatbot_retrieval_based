{
 "cells": [
  {
   "cell_type": "code",
   "execution_count": null,
   "metadata": {},
   "outputs": [],
   "source": [
    "response_a = \"The {} has a gluten-free option, but it is not vegan\"\n",
    "response_b = \"We have a selection of sides to go along with the {}, including mashed potatoes and steamed vegatables.\"\n",
    "response_c = \"{} includes habanero, so it is a bit spicy!\"\n",
    "blank_spot = \"food\"\n",
    "\n",
    "\n",
    "responses = [response_a, response_b, response_c]"
   ]
  }
 ],
 "metadata": {
  "kernelspec": {
   "display_name": "Python 3",
   "language": "python",
   "name": "python3"
  },
  "language_info": {
   "codemirror_mode": {
    "name": "ipython",
    "version": 3
   },
   "file_extension": ".py",
   "mimetype": "text/x-python",
   "name": "python",
   "nbconvert_exporter": "python",
   "pygments_lexer": "ipython3",
   "version": "3.7.4"
  }
 },
 "nbformat": 4,
 "nbformat_minor": 2
}
